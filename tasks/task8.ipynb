{
  "nbformat": 4,
  "nbformat_minor": 0,
  "metadata": {
    "colab": {
      "provenance": [],
      "machine_shape": "hm",
      "authorship_tag": "ABX9TyNTvoZT/P+HsusMVxYnFhMH",
      "include_colab_link": true
    },
    "kernelspec": {
      "name": "python3",
      "display_name": "Python 3"
    },
    "language_info": {
      "name": "python"
    }
  },
  "cells": [
    {
      "cell_type": "markdown",
      "metadata": {
        "id": "view-in-github",
        "colab_type": "text"
      },
      "source": [
        "<a href=\"https://colab.research.google.com/github/uygararas/ie423/blob/main/tasks/task8.ipynb\" target=\"_parent\"><img src=\"https://colab.research.google.com/assets/colab-badge.svg\" alt=\"Open In Colab\"/></a>"
      ]
    },
    {
      "cell_type": "code",
      "source": [
        "import pandas as pd\n",
        "import numpy as np\n",
        "from sklearn.metrics.pairwise import cosine_similarity\n",
        "from sklearn.model_selection import train_test_split\n",
        "import matplotlib.pyplot as plt\n",
        "\n",
        "from google.colab import drive\n",
        "drive.mount('/content/drive')"
      ],
      "metadata": {
        "colab": {
          "base_uri": "https://localhost:8080/"
        },
        "id": "wmspogVtbCMk",
        "outputId": "70348315-3f8b-45ec-8db7-7ea7a45ae4ea"
      },
      "execution_count": 1,
      "outputs": [
        {
          "output_type": "stream",
          "name": "stdout",
          "text": [
            "Mounted at /content/drive\n"
          ]
        }
      ]
    },
    {
      "cell_type": "code",
      "source": [
        "%%capture\n",
        "# Load datasets\n",
        "jokes = pd.read_csv('/content/drive/MyDrive/Colab Notebooks/data/filter/JokeText.csv', header=None, names=['JokeText'])\n",
        "ratings1 = pd.read_csv('/content/drive/MyDrive/Colab Notebooks/data/filter/UserRatings1.csv', header=None)\n",
        "ratings2 = pd.read_csv('/content/drive/MyDrive/Colab Notebooks/data/filter/UserRatings2.csv', header=None)\n",
        "\n",
        "# Combine the ratings datasets\n",
        "ratings = pd.concat([ratings1, ratings2], axis=0).reset_index(drop=True)\n",
        "\n",
        "# Ensure the ratings dataframe contains only numeric data\n",
        "ratings = ratings.apply(pd.to_numeric, errors='coerce')\n",
        "\n",
        "# Replace missing values with the mean rating (column-wise)\n",
        "ratings_filled = ratings.apply(lambda col: col.fillna(col.mean()), axis=0)\n",
        "\n",
        "# Ensure there are no missing values\n",
        "print(f\"Total missing values after filling: {ratings_filled.isnull().sum().sum()}\")"
      ],
      "metadata": {
        "id": "871CX80QbC7m"
      },
      "execution_count": 2,
      "outputs": []
    },
    {
      "cell_type": "code",
      "source": [
        "\n",
        "# Split the data into training and testing sets\n",
        "train_data, test_data = train_test_split(ratings_filled, test_size=0.2, random_state=42)\n",
        "train_data = train_data.reset_index(drop=True)  # Reset the index\n",
        "# Compute the cosine similarity matrix for the training data\n",
        "cosine_sim = cosine_similarity(train_data)\n",
        "\n",
        "# Print shape of the cosine similarity matrix\n",
        "print(f\"Cosine similarity matrix shape: {cosine_sim.shape}\")\n",
        "print(\"Shape of train_data:\", train_data.shape)"
      ],
      "metadata": {
        "colab": {
          "base_uri": "https://localhost:8080/"
        },
        "id": "qdOWO8X0bF4i",
        "outputId": "588c1546-c05a-4904-bf00-f3baac7d4aa3"
      },
      "execution_count": 3,
      "outputs": [
        {
          "output_type": "stream",
          "name": "stdout",
          "text": [
            "Cosine similarity matrix shape: (161, 161)\n",
            "Shape of train_data: (161, 36712)\n"
          ]
        }
      ]
    },
    {
      "cell_type": "code",
      "source": [
        "# Function to recommend jokes\n",
        "def recommend_jokes(user_id, num_jokes=5):\n",
        "    # Ensure the user_id is within the valid range\n",
        "    if user_id < 0 or user_id >= train_data.shape[0]:\n",
        "        raise IndexError(\"User ID is out of range\")\n",
        "\n",
        "    # Get the similarity scores for the given user\n",
        "    user_similarities = cosine_sim[user_id]\n",
        "\n",
        "    # Get the indices of the most similar users\n",
        "    similar_user_indices = user_similarities.argsort()[::-1][:num_jokes]\n",
        "    similar_users_ratings = train_data.loc[similar_user_indices]\n",
        "\n",
        "    # Aggregate ratings from similar users\n",
        "    joke_scores = similar_users_ratings.mean(axis=0)\n",
        "    joke_scores = joke_scores.sort_values(ascending=False)\n",
        "    # Get the indices of the top-rated jokes **within the 'jokes' DataFrame**\n",
        "    top_joke_indices = joke_scores[::-1][:num_jokes]\n",
        "    # Filter indices to be within the valid range for the 'jokes' DataFrame\n",
        "    valid_top_joke_indices = [i for i in top_joke_indices if i < jokes.shape[0]]\n",
        "\n",
        "    # Get the top-rated jokes\n",
        "    top_jokes = jokes.iloc[valid_top_joke_indices]['JokeText'].tolist()\n",
        "    return top_jokes"
      ],
      "metadata": {
        "id": "Wm9Jm1ZfbH1i"
      },
      "execution_count": 4,
      "outputs": []
    },
    {
      "cell_type": "code",
      "source": [
        "# prompt: call the function with userid 0 and num jokes 5 and then print the result\n",
        "\n",
        "recommendations = recommend_jokes(0, 5)\n",
        "for recommendation in recommendations:\n",
        "    print(recommendation)\n"
      ],
      "metadata": {
        "colab": {
          "base_uri": "https://localhost:8080/"
        },
        "id": "4fwRc-TLmof2",
        "outputId": "391eeb88-7d90-4d9a-c422-5afe85941d05"
      },
      "execution_count": 5,
      "outputs": [
        {
          "output_type": "stream",
          "name": "stdout",
          "text": [
            "Reaching the end of a job interview, the human resources person asked a\n",
            "young engineer fresh out of Stanford,\n",
            "\n",
            "\"And what starting salary were you looking for?\"\n",
            "\n",
            "The engineer said, \"In the neighborhood of $125,000 a year, depending\n",
            "on the benefits package.\"\n",
            "\n",
            "The interviewer said, \"Well, what would you say to a package of 5-weeks \n",
            "vacation, 14 paid holidays, full medical and dental, company matching \n",
            "retirement fund to 50% of salary, and a company car leased every 2 years - \n",
            "say, a red Corvette?\"\n",
            "\n",
            "The Engineer sat up straight and said, \"Wow! Are you kidding?\"\n",
            "\n",
            "And the interviewer replied, \"Yeah, but you started it.\"\n",
            "\n",
            "Reaching the end of a job interview, the human resources person asked a\n",
            "young engineer fresh out of Stanford,\n",
            "\n",
            "\"And what starting salary were you looking for?\"\n",
            "\n",
            "The engineer said, \"In the neighborhood of $125,000 a year, depending\n",
            "on the benefits package.\"\n",
            "\n",
            "The interviewer said, \"Well, what would you say to a package of 5-weeks \n",
            "vacation, 14 paid holidays, full medical and dental, company matching \n",
            "retirement fund to 50% of salary, and a company car leased every 2 years - \n",
            "say, a red Corvette?\"\n",
            "\n",
            "The Engineer sat up straight and said, \"Wow! Are you kidding?\"\n",
            "\n",
            "And the interviewer replied, \"Yeah, but you started it.\"\n",
            "\n",
            "Two atoms are walking down the street when one \n",
            "atom says to the other \n",
            "\"Oh, my! I've lost an electron!\"\n",
            "\n",
            "The second atom says\"Are you sure\"\n",
            "\n",
            "The first replies \"I'm positive!\"\n",
            "\n",
            "Two atoms are walking down the street when one \n",
            "atom says to the other \n",
            "\"Oh, my! I've lost an electron!\"\n",
            "\n",
            "The second atom says\"Are you sure\"\n",
            "\n",
            "The first replies \"I'm positive!\"\n",
            "\n",
            "Two atoms are walking down the street when one \n",
            "atom says to the other \n",
            "\"Oh, my! I've lost an electron!\"\n",
            "\n",
            "The second atom says\"Are you sure\"\n",
            "\n",
            "The first replies \"I'm positive!\"\n",
            "\n"
          ]
        }
      ]
    }
  ]
}